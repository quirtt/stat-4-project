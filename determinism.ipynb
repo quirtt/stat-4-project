{
 "cells": [
  {
   "cell_type": "code",
   "execution_count": 10,
   "id": "9b2e33aa",
   "metadata": {},
   "outputs": [],
   "source": [
    "import pandas as pd\n",
    "import pyreadstat"
   ]
  },
  {
   "cell_type": "code",
   "execution_count": null,
   "id": "59027ae0",
   "metadata": {},
   "outputs": [
    {
     "ename": "ReadstatError",
     "evalue": "This version of the file format is not supported",
     "output_type": "error",
     "traceback": [
      "\u001b[31m---------------------------------------------------------------------------\u001b[39m",
      "\u001b[31mReadstatError\u001b[39m                             Traceback (most recent call last)",
      "\u001b[36mCell\u001b[39m\u001b[36m \u001b[39m\u001b[32mIn[11]\u001b[39m\u001b[32m, line 1\u001b[39m\n\u001b[32m----> \u001b[39m\u001b[32m1\u001b[39m df, meta = \u001b[43mpyreadstat\u001b[49m\u001b[43m.\u001b[49m\u001b[43mread_dta\u001b[49m\u001b[43m(\u001b[49m\u001b[33;43m\"\u001b[39;49m\u001b[33;43m/Users/quirtt/Projects/Stat4/ICPSR_22626/DS0002/22626-0002-Data.rda\u001b[39;49m\u001b[33;43m\"\u001b[39;49m\u001b[43m)\u001b[49m\n",
      "\u001b[36mFile \u001b[39m\u001b[32mpyreadstat/pyreadstat.pyx:296\u001b[39m, in \u001b[36mpyreadstat.pyreadstat.read_dta\u001b[39m\u001b[34m()\u001b[39m\n",
      "\u001b[36mFile \u001b[39m\u001b[32mpyreadstat/_readstat_parser.pyx:1166\u001b[39m, in \u001b[36mpyreadstat._readstat_parser.run_conversion\u001b[39m\u001b[34m()\u001b[39m\n",
      "\u001b[36mFile \u001b[39m\u001b[32mpyreadstat/_readstat_parser.pyx:908\u001b[39m, in \u001b[36mpyreadstat._readstat_parser.run_readstat_parser\u001b[39m\u001b[34m()\u001b[39m\n",
      "\u001b[36mFile \u001b[39m\u001b[32mpyreadstat/_readstat_parser.pyx:830\u001b[39m, in \u001b[36mpyreadstat._readstat_parser.check_exit_status\u001b[39m\u001b[34m()\u001b[39m\n",
      "\u001b[31mReadstatError\u001b[39m: This version of the file format is not supported"
     ]
    }
   ],
   "source": [
    "ihds_data = pd.read_stata('/Users/quirtt/Projects/Stat4/ICPSR_22626/DS0002/22626-0002-Data.rda')"
   ]
  }
 ],
 "metadata": {
  "kernelspec": {
   "display_name": "Python 3",
   "language": "python",
   "name": "python3"
  },
  "language_info": {
   "codemirror_mode": {
    "name": "ipython",
    "version": 3
   },
   "file_extension": ".py",
   "mimetype": "text/x-python",
   "name": "python",
   "nbconvert_exporter": "python",
   "pygments_lexer": "ipython3",
   "version": "3.13.3"
  }
 },
 "nbformat": 4,
 "nbformat_minor": 5
}
